{
 "cells": [
  {
   "cell_type": "code",
   "execution_count": null,
   "id": "eb90bbd1",
   "metadata": {},
   "outputs": [],
   "source": [
    "# https://github.com/alexnguyen9/recipe-matcher"
   ]
  },
  {
   "cell_type": "code",
   "execution_count": 110,
   "id": "c921f146",
   "metadata": {},
   "outputs": [],
   "source": [
    "import pandas as pd\n",
    "import pickle\n",
    "from flask import Flask, request, render_template, url_for, session\n",
    "import numpy as np\n",
    "from scipy.spatial.distance import cdist\n",
    "import re\n",
    "import boto3"
   ]
  },
  {
   "cell_type": "code",
   "execution_count": 111,
   "id": "b997686c",
   "metadata": {},
   "outputs": [],
   "source": [
    "food_matrix = pickle.load(open('food_matrix.pkl','rb'))\n",
    "transformer = pickle.load(open('transformer.pkl','rb'))\n",
    "food_data = pickle.load(open('main_data.pkl','rb'))"
   ]
  },
  {
   "cell_type": "code",
   "execution_count": null,
   "id": "93f39eae",
   "metadata": {},
   "outputs": [],
   "source": [
    "def predict(ingredients):\n",
    "\n",
    "    \n",
    "    \n",
    "    output = str(ingredients)\n",
    "    \n",
    "    y = transformer.transform([output])\n",
    "\n",
    "    m = cdist(y.toarray()[0].reshape(1,-1), food_matrix, metric='cosine')\n",
    "    global index \n",
    "    index = np.argsort(m[0]).tolist()\n",
    "    counter = 0\n",
    "    \n",
    "    topNReciepes = 3\n",
    "    for i in range(3):\n",
    "        instructions = food_data.instructions[index[i]]\n",
    "        title = food_data.title[index[i]]\n",
    "        ingredients = food_data.ingredients[index[i]]\n",
    "        source = food_data.url[index[i]]\n",
    "    \n",
    "        print (\"title: \", title)\n",
    "        print (\"ingredients: \", ingredients)\n",
    "        print (\"--------------------\")\n"
   ]
  },
  {
   "cell_type": "code",
   "execution_count": 123,
   "id": "6eef367b",
   "metadata": {},
   "outputs": [
    {
     "name": "stdout",
     "output_type": "stream",
     "text": [
      "Enter a ingredient: jalapeno\n",
      "Enter a ingredient: tomato\n",
      "Enter a ingredient: cheese\n",
      "Enter a ingredient: yeast\n",
      "Enter a ingredient: end\n",
      "Fetching prediction\n",
      "title:  Taco Rice Bowl\n",
      "ingredients:  ['1 pound ground beef', '1 cup shredded Cheddar cheese', '1 cup chopped tomato']\n",
      "--------------------\n",
      "title:  Cheesy Pepperoni Parmesan Pizza\n",
      "ingredients:  ['5 cups all-purpose flour, divided', '1 cup Kraft® Grated Parmesan Cheese', '1 teaspoon fast-rising dry yeast', '1/2 teaspoon salt', '2 cups cold water', '1/4 cup olive oil', \"1/2 cup Hunt's® Diced Tomatoes with Basil, Garlic, and Oregano\", \"1 (14.5 ounce) can Hunt's® Diced Tomatoes, drained\", '2 cups Kraft® Shredded Mozzarella Cheese', '10 slices pepperoni', '1 tablespoon Kraft® Grated Parmesan Cheese']\n",
      "--------------------\n",
      "title:  Taco Waffles from Eggland's Best\n",
      "ingredients:  [\"2 Eggland's Best Eggs, large\", '1/4 cup bacon bits', '2 jalapeno chile peppers, seeded and diced', '1/4 cup shredded Mexican cheese blend', '2 tablespoons chopped fresh chives', '2 tablespoons chopped tomatoes', '1/3 cup prepared pancake mix']\n",
      "--------------------\n",
      "None\n"
     ]
    }
   ],
   "source": [
    "ingredients = []\n",
    "current = \"\"\n",
    "while (current != 'end'):\n",
    "    current = input(\"Enter a ingredient: \")\n",
    "    ingredients.append(current)\n",
    "\n",
    "print(\"Fetching prediction\")\n",
    "print (predict(ingredients))"
   ]
  },
  {
   "cell_type": "code",
   "execution_count": null,
   "id": "debca195",
   "metadata": {},
   "outputs": [],
   "source": []
  },
  {
   "cell_type": "markdown",
   "id": "69b5c93d",
   "metadata": {},
   "source": [
    "# Shipment"
   ]
  },
  {
   "cell_type": "markdown",
   "id": "dfc9d3d9",
   "metadata": {},
   "source": [
    "<!--youtube  -->\n",
    "https://www.youtube.com/watch?v=C_AtgCm43Nk <br>\n",
    "https://github.com/learn-mikegchambers-com/aws-mls-c01/tree/master/8-SageMaker/SageMaker-Script-Mode"
   ]
  },
  {
   "cell_type": "code",
   "execution_count": 76,
   "id": "f8f575b6",
   "metadata": {},
   "outputs": [],
   "source": [
    "import sagemaker\n",
    "from sagemaker.sklearn.estimator import SKLearn\n",
    "import boto3\n",
    "import os"
   ]
  },
  {
   "cell_type": "code",
   "execution_count": 101,
   "id": "211efa2d",
   "metadata": {},
   "outputs": [
    {
     "name": "stdout",
     "output_type": "stream",
     "text": [
      "/home/ec2-user/SageMaker/\n",
      "s3://sagemaker-us-east-1-585512233622/halifaxfoodie-ml-data/pkl/food_matrix.pkl\n"
     ]
    }
   ],
   "source": [
    "role = sagemaker.get_execution_role()\n",
    "sess = sagemaker.Session()\n",
    "bucket = sess.default_bucket()\n",
    "\n",
    "s3_prefix = \"halifaxfoodie-ml-data\"\n",
    "pickle_s3_prefix = f\"{s3_prefix}/pkl\"\n",
    "pickle_s3_uri = f\"s3://{bucket}/{s3_prefix}/pkl\"\n",
    "pickle_train_s3_uri = f\"{pickle_s3_uri}/food_matrix.pkl\"\n",
    "\n",
    "train_dir = os.path.join(os.getcwd(), \"\")\n",
    "print (train_dir)\n",
    "print (pickle_train_s3_uri)"
   ]
  },
  {
   "cell_type": "code",
   "execution_count": 100,
   "id": "1ff4617f",
   "metadata": {},
   "outputs": [
    {
     "name": "stdout",
     "output_type": "stream",
     "text": [
      "s3.Bucket(name='sagemaker-us-east-1-585512233622')\n"
     ]
    }
   ],
   "source": [
    "s3_resource_bucket = boto3.Session().resource(\"s3\").Bucket(bucket)\n",
    "s3_resource_bucket.Object(os.path.join(pickle_s3_prefix, \"food_matrix.pkl\")).upload_file(\n",
    "    train_dir + \"/food_matrix.pkl\"\n",
    ")\n",
    "print (s3_resource_bucket)"
   ]
  },
  {
   "cell_type": "code",
   "execution_count": 79,
   "id": "79299f3a",
   "metadata": {},
   "outputs": [],
   "source": [
    "hyperparameters = {\n",
    "    \"copy_X\": True,\n",
    "    \"fit_intercept\": True,\n",
    "    \"normalize\": False,\n",
    "}"
   ]
  },
  {
   "cell_type": "code",
   "execution_count": 102,
   "id": "a050b0ae",
   "metadata": {},
   "outputs": [],
   "source": [
    "train_instance_type = \"ml.m5.large\"\n",
    "\n",
    "inputs = {\n",
    "    \"train\": pickle_train_s3_uri\n",
    "}"
   ]
  },
  {
   "cell_type": "code",
   "execution_count": 105,
   "id": "192ca48e",
   "metadata": {},
   "outputs": [],
   "source": [
    "estimator_parameters = {\n",
    "    \"entry_point\": \"script.py\",\n",
    "    \"source_dir\": \"scripts\",\n",
    "    \"framework_version\": \"0.23-1\",\n",
    "    \"py_version\": \"py3\",\n",
    "    \"instance_type\": train_instance_type,\n",
    "    \"instance_count\": 1,\n",
    "    \"hyperparameters\": hyperparameters,\n",
    "    \"role\": role,\n",
    "    \"base_job_name\": \"similarity-model\",\n",
    "}\n",
    "\n",
    "estimator = SKLearn(**estimator_parameters)\n"
   ]
  },
  {
   "cell_type": "code",
   "execution_count": null,
   "id": "c1ba4b52",
   "metadata": {},
   "outputs": [],
   "source": [
    "# estimator.fit(inputs)\n",
    "estimator.fit(inputs)"
   ]
  }
 ],
 "metadata": {
  "kernelspec": {
   "display_name": "conda_python3",
   "language": "python",
   "name": "conda_python3"
  },
  "language_info": {
   "codemirror_mode": {
    "name": "ipython",
    "version": 3
   },
   "file_extension": ".py",
   "mimetype": "text/x-python",
   "name": "python",
   "nbconvert_exporter": "python",
   "pygments_lexer": "ipython3",
   "version": "3.8.12"
  }
 },
 "nbformat": 4,
 "nbformat_minor": 5
}
